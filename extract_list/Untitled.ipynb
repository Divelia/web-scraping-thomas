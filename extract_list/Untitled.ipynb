{
 "cells": [
  {
   "cell_type": "code",
   "execution_count": 5,
   "id": "e26ccd72",
   "metadata": {
    "scrolled": true
   },
   "outputs": [
    {
     "name": "stdout",
     "output_type": "stream",
     "text": [
      "(1) Vitaminas\n",
      "(2) Suplementos\n",
      "Choose only one: 1\n"
     ]
    },
    {
     "name": "stderr",
     "output_type": "stream",
     "text": [
      "<ipython-input-5-407b14d509a6>:29: DeprecationWarning: use options instead of chrome_options\n",
      "  driver = webdriver.Chrome('./chromedriver', chrome_options=opts)\n"
     ]
    },
    {
     "name": "stdout",
     "output_type": "stream",
     "text": [
      "data:,\n",
      "is empty:  True\n"
     ]
    }
   ],
   "source": [
    "from time import sleep\n",
    "from selenium import webdriver\n",
    "# from webdriver_manager.chrome import ChromeDriverManager\n",
    "from selenium.webdriver.chrome.options import Options\n",
    "from selenium.webdriver.support.ui import WebDriverWait\n",
    "from selenium.webdriver.common.by import By\n",
    "from selenium.webdriver.support import expected_conditions as EC\n",
    "import math\n",
    "import re\n",
    "from tqdm import tqdm\n",
    "import random\n",
    "import pandas as pd\n",
    "from utils import *\n",
    "\n",
    "list_agents = [\n",
    "    \"Mozilla/5.0 (X11; Linux x86_64) AppleWebKit/537.36 (KHTML, like Gecko) Ubuntu Chromium/71.0.3578.80 Chrome/71.0.3578.80 Safari/537.36\",\n",
    "    \"Mozilla/5.0 (Windows NT 10.0; Win64; x64) AppleWebKit/537.36 (KHTML, like Gecko) Chrome/80.0.3987.149 Safari/537.36\",\n",
    "    \"Mozilla/5.0 (X11; Linux x86_64) AppleWebKit/537.36 (KHTML, like Gecko) Chrome/57.0.2987.110 Safari/537.36\",\n",
    "]\n",
    "\n",
    "opts = Options()\n",
    "opts.add_argument(\"user-agent=\" + list_agents[2])\n",
    "opts.add_argument(\"--start-maximized\")\n",
    "opts.add_argument(\"--disable-extensions\")\n",
    "opts.add_argument(\"--disable-notifications\")\n",
    "\n",
    "search = choose_search()\n",
    "\n",
    "driver = webdriver.Chrome('./chromedriver', chrome_options=opts)\n",
    "\n",
    "# URL origin\n",
    "url_origin = \"https://www.lojadosuplemento.com.br/pesquisa?t={}\".format(search.upper())\n",
    "\n",
    "def set_link(n):\n",
    "    if n == 1:\n",
    "        link_pattern = url_origin\n",
    "    else:\n",
    "        link_pattern = url_origin + \"#/pagina-{}\".format(n)\n",
    "    return link_pattern\n",
    "\n",
    "titles = []\n",
    "prices = []\n",
    "oldprices = []\n",
    "images = []\n",
    "unique_prices = []\n",
    "lmpm_prices = []\n",
    "\n",
    "tries = 0\n",
    "\n",
    "while True:\n",
    "    try:\n",
    "\n",
    "        WebDriverWait(driver, 10).until(\n",
    "            EC.presence_of_element_located((By.XPATH, \"//div[@class='wd-browsing-grid-list   wd-widget-js']/ul/li//div[@class='block-1 savings']/strong\"))\n",
    "        )\n",
    "\n",
    "        list_of_products = driver.find_elements(By.XPATH, \"//div[@class='wd-browsing-grid-list   wd-widget-js']/ul/li\")\n",
    "\n",
    "        sleep(random.uniform(1.0, 3.0))\n",
    "\n",
    "        for product in list_of_products:\n",
    "\n",
    "\n",
    "            WebDriverWait(driver, 10).until(\n",
    "                EC.presence_of_element_located(\n",
    "                    (By.XPATH, '//div[@class=\"wd-browsing-grid-list   wd-widget-js\"]/ul/li//div[@class=\"block-1 savings\"]/strong'))\n",
    "            )\n",
    "\n",
    "            try:\n",
    "                try:\n",
    "                    title = product.find_element_by_xpath(\".//div[@class='name']/a\").text\n",
    "                except:\n",
    "                    title = ''\n",
    "\n",
    "                try:\n",
    "                    price = product.find_element_by_xpath('.//div[@class=\"block-1 savings\"]/strong').text\n",
    "                except:\n",
    "                    price = ''\n",
    "\n",
    "                try:\n",
    "                    oldprice = product.find_element_by_xpath('.//div[@class=\"block-1 savings\"]/del').text\n",
    "                except:\n",
    "                    oldprice = ''\n",
    "\n",
    "                try:\n",
    "                    image = product.find_element_by_xpath('.//div[@class=\"variation variation-root\"]/img').get_attribute(\"src\")\n",
    "                except:\n",
    "                    image = ''\n",
    "\n",
    "                try:\n",
    "                    unique_price = product.find_element_by_xpath(\n",
    "                        './/div[@class=\"block-2 condition\"]/span[1]'\n",
    "                    ).text.replace('\\n', ' ').replace('\\r', ' ').strip()\n",
    "                except:\n",
    "                    unique_price = ''\n",
    "\n",
    "                try:\n",
    "                    lmpm_pricex = product.find_elements_by_xpath(\".//div[@class='block-2 condition']/span\")\n",
    "                    lmpm_pricexx = [n.text.replace('\\n', ' ').replace('\\r', ' ').strip() for n in lmpm_pricex]\n",
    "                    lmpm_price = lmpm_pricexx[1] + lmpm_pricexx[2]\n",
    "                except:\n",
    "                    lmpm_price = ''\n",
    "\n",
    "                titles.append(title)\n",
    "                prices.append(price)\n",
    "                oldprices.append(oldprice)\n",
    "                images.append(image)\n",
    "                unique_prices.append(unique_price)\n",
    "                lmpm_prices.append(lmpm_price)\n",
    "\n",
    "                print(\n",
    "                    \"Item: \",\n",
    "                    {\n",
    "                        \"title\": title,\n",
    "                        \"price\": price,\n",
    "                        \"oldprice\": oldprice,\n",
    "                        \"image\": image,\n",
    "                        \"unique_price\": unique_price,\n",
    "                        \"lmpm_price\": lmpm_price\n",
    "                    },\n",
    "                )\n",
    "\n",
    "            except Exception as e:\n",
    "                print(e)\n",
    "        \n",
    "        try:\n",
    "            sleep(random.uniform(1.0, 5.0))\n",
    "            nextpages = WebDriverWait(driver, 10).until(\n",
    "                EC.element_to_be_clickable((By.XPATH, '//a[@class=\"page-next\"]'))\n",
    "            )\n",
    "            nextpage = [n.get_attribute('href') for n in nextpages][1]\n",
    "\n",
    "            driver.get(nextpage)\n",
    "        except:\n",
    "            break\n",
    "    except Exception as e:\n",
    "        if tries < 5:\n",
    "            tries += 1\n",
    "            continue\n",
    "        else:\n",
    "            print(driver.current_url)\n",
    "            break\n",
    "\n",
    "driver.close()\n",
    "\n",
    "dicts = {}\n",
    "\n",
    "dicts[\"name\"] = titles\n",
    "dicts[\"price\"] = prices\n",
    "dicts[\"oldprice\"] = oldprices\n",
    "dicts[\"image\"] = images\n",
    "dicts[\"unique_price\"] = unique_prices\n",
    "dicts[\"lmpm_price\"] = lmpm_prices\n",
    "\n",
    "df_web = pd.DataFrame.from_dict(dicts)\n",
    "\n",
    "try:\n",
    "    df_previous = pd.read_excel(\"outputs//lojadosuplementonote-{}.xlsx\".format(search))\n",
    "    print(df_previous)\n",
    "except:\n",
    "    df_previous = pd.DataFrame()\n",
    "    pass\n",
    "\n",
    "print(\"is empty: \", df_previous.empty)\n",
    "\n",
    "if df_previous.empty:\n",
    "    df_web.to_excel(\"outputs//lojadosuplementonote-{}.xlsx\".format(search), index=False)\n",
    "else:\n",
    "    df_all_rows = pd.concat([df_previous, df_web], ignore_index=True)\n",
    "    df_all_rows.to_excel(\"outputs//lojadosuplementonote-{}.xlsx\".format(search), index=False)\n",
    "\n"
   ]
  },
  {
   "cell_type": "code",
   "execution_count": null,
   "id": "0de76169",
   "metadata": {},
   "outputs": [],
   "source": [
    "nombre = input('Ingrese nombres y apellidos: ')\n",
    "def \n",
    "print('Las iniciales son:')"
   ]
  },
  {
   "cell_type": "code",
   "execution_count": null,
   "id": "716522a9",
   "metadata": {},
   "outputs": [],
   "source": []
  },
  {
   "cell_type": "code",
   "execution_count": null,
   "id": "546b3fd6",
   "metadata": {},
   "outputs": [],
   "source": [
    "(?=.*\\d)(?=.*[a-z])(?=.*[A-Z])(?=.*\\W)"
   ]
  },
  {
   "cell_type": "code",
   "execution_count": 16,
   "id": "62b504d6",
   "metadata": {},
   "outputs": [
    {
     "name": "stdout",
     "output_type": "stream",
     "text": [
      "Search successful.\n"
     ]
    }
   ],
   "source": [
    "import re\n",
    "\n",
    "pattern = '(.*[a-z].*)(.*[A-Z].*)(.*\\d.*)(.*\\W.*)'\n",
    "test_string = 'fdasdAAS DASDSA 45_'\n",
    "result = re.match(pattern, test_string)\n",
    "\n",
    "if result:\n",
    "  print(\"Search successful.\")\n",
    "else:\n",
    "  print(\"Search unsuccessful.\")\t"
   ]
  },
  {
   "cell_type": "code",
   "execution_count": 31,
   "id": "603be4f4",
   "metadata": {},
   "outputs": [
    {
     "name": "stdout",
     "output_type": "stream",
     "text": [
      "success  (?=.*[a-z])\n",
      "success  (?=.*[A-Z])\n",
      "success  (?=.*\\d)\n"
     ]
    }
   ],
   "source": [
    "tests = ['(?=.*[a-z])', '(?=.*[A-Z])', '(?=.*\\d)', '[\\$\\#\\@]+?']\n",
    "for test in tests:\n",
    "    result = re.match(test, 'fdasdAASDASDSA45_ $#')\n",
    "    if result:\n",
    "        print('success ', test)"
   ]
  },
  {
   "cell_type": "code",
   "execution_count": null,
   "id": "4c73b9c4",
   "metadata": {},
   "outputs": [],
   "source": []
  },
  {
   "cell_type": "code",
   "execution_count": null,
   "id": "8b398aae",
   "metadata": {},
   "outputs": [],
   "source": []
  },
  {
   "cell_type": "code",
   "execution_count": null,
   "id": "9d9b17d6",
   "metadata": {},
   "outputs": [],
   "source": []
  },
  {
   "cell_type": "code",
   "execution_count": null,
   "id": "451ec721",
   "metadata": {},
   "outputs": [],
   "source": []
  },
  {
   "cell_type": "code",
   "execution_count": null,
   "id": "6af0621d",
   "metadata": {},
   "outputs": [],
   "source": []
  },
  {
   "cell_type": "code",
   "execution_count": null,
   "id": "88654c4a",
   "metadata": {},
   "outputs": [],
   "source": []
  },
  {
   "cell_type": "code",
   "execution_count": null,
   "id": "0bbf7d89",
   "metadata": {},
   "outputs": [],
   "source": []
  },
  {
   "cell_type": "code",
   "execution_count": null,
   "id": "3675da5d",
   "metadata": {},
   "outputs": [],
   "source": []
  },
  {
   "cell_type": "code",
   "execution_count": null,
   "id": "7608ab7c",
   "metadata": {},
   "outputs": [],
   "source": []
  },
  {
   "cell_type": "code",
   "execution_count": null,
   "id": "d94f0d26",
   "metadata": {},
   "outputs": [],
   "source": []
  },
  {
   "cell_type": "code",
   "execution_count": null,
   "id": "d39315e7",
   "metadata": {},
   "outputs": [],
   "source": []
  },
  {
   "cell_type": "code",
   "execution_count": null,
   "id": "757ebd26",
   "metadata": {},
   "outputs": [],
   "source": []
  },
  {
   "cell_type": "code",
   "execution_count": null,
   "id": "af170fbd",
   "metadata": {},
   "outputs": [],
   "source": []
  },
  {
   "cell_type": "code",
   "execution_count": null,
   "id": "fed4b12a",
   "metadata": {},
   "outputs": [],
   "source": []
  },
  {
   "cell_type": "code",
   "execution_count": null,
   "id": "97a952fe",
   "metadata": {},
   "outputs": [],
   "source": []
  },
  {
   "cell_type": "code",
   "execution_count": null,
   "id": "e478b3a2",
   "metadata": {},
   "outputs": [],
   "source": []
  },
  {
   "cell_type": "code",
   "execution_count": null,
   "id": "00f3839b",
   "metadata": {},
   "outputs": [],
   "source": []
  },
  {
   "cell_type": "code",
   "execution_count": null,
   "id": "a9e7e6c7",
   "metadata": {},
   "outputs": [],
   "source": []
  },
  {
   "cell_type": "code",
   "execution_count": null,
   "id": "85b860d3",
   "metadata": {},
   "outputs": [],
   "source": []
  },
  {
   "cell_type": "code",
   "execution_count": null,
   "id": "30551aab",
   "metadata": {},
   "outputs": [],
   "source": []
  }
 ],
 "metadata": {
  "kernelspec": {
   "display_name": "Python 3",
   "language": "python",
   "name": "python3"
  },
  "language_info": {
   "codemirror_mode": {
    "name": "ipython",
    "version": 3
   },
   "file_extension": ".py",
   "mimetype": "text/x-python",
   "name": "python",
   "nbconvert_exporter": "python",
   "pygments_lexer": "ipython3",
   "version": "3.9.5"
  }
 },
 "nbformat": 4,
 "nbformat_minor": 5
}
